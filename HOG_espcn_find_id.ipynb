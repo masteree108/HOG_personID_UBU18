{
 "cells": [
  {
   "cell_type": "code",
   "execution_count": null,
   "id": "8cdfe8a3-d58c-4178-9e9c-a7054a20d4f8",
   "metadata": {},
   "outputs": [],
   "source": [
    "# conda activate py38\n",
    "import cv2\n",
    "import numpy as np\n",
    "import matplotlib.pyplot as plt\n",
    "import os\n",
    "#import argparse\n",
    "from skimage import feature\n",
    "from sklearn.neighbors import KNeighborsClassifier\n",
    "from imutils import paths"
   ]
  },
  {
   "cell_type": "code",
   "execution_count": null,
   "id": "98248ab6-fb71-4530-83a6-57f620ffb8af",
   "metadata": {},
   "outputs": [],
   "source": [
    "cv2.__version__"
   ]
  },
  {
   "cell_type": "code",
   "execution_count": null,
   "id": "fb312d39-ae8b-43ca-88c3-2def2b228589",
   "metadata": {},
   "outputs": [],
   "source": [
    "# Super Resolution\n",
    "path = \"ESPCN/ESPCN_x4.pb\"\n",
    "sr = cv2.dnn_superres.DnnSuperResImpl_create()\n",
    "sr.readModel(path)\n",
    "sr.setModel(\"espcn\",4)"
   ]
  },
  {
   "cell_type": "code",
   "execution_count": null,
   "id": "d3548311-b4ff-4fa1-87a4-fb7d81d2c440",
   "metadata": {},
   "outputs": [],
   "source": [
    "amount_of_person = 5\n",
    "training_path = \"training_data/\"\n",
    "tes_path = \"testing_data/\"\n",
    "data = []\n",
    "labels = []\n",
    "imgs = []\n",
    "class_img = []\n",
    "for i,imagePath in enumerate(paths.list_images(training_path)):\n",
    "    make = imagePath.split(\"/\")[-2]\n",
    "    image = cv2.imread(imagePath)\n",
    "    image = sr.upsample(image) # Super Resolution\n",
    "    image= cv2.pyrUp(image)\n",
    "    gray = cv2.cvtColor(image, cv2.COLOR_BGR2GRAY)\n",
    "    resize_img = cv2.resize(gray , (500, 500))\n",
    "    imgs.append(resize_img)\n",
    "    if((i+1)%5 == 0):\n",
    "        class_img.append(imgs)\n",
    "        imgs= []\n",
    "    (H, hogImage) = feature.hog(resize_img, orientations=9, pixels_per_cell=(10, 10), cells_per_block=(2, 2), transform_sqrt=True, visualize=True)\n",
    "    data.append(H)\n",
    "    labels.append(make)     "
   ]
  },
  {
   "cell_type": "code",
   "execution_count": null,
   "id": "3873100b-ef72-46c6-b07a-fdfe80155aab",
   "metadata": {},
   "outputs": [],
   "source": [
    "# plt all images\n",
    "for i in range(amount_of_person):\n",
    "    figure, ax = plt.subplots(1, amount_of_person, figsize=(16, 8))\n",
    "    for j in range(amount_of_person):\n",
    "        ax[j].imshow(class_img[i][j])  "
   ]
  },
  {
   "cell_type": "code",
   "execution_count": null,
   "id": "9d8cd6c4-283f-48cb-a969-d3f35d36a33b",
   "metadata": {},
   "outputs": [],
   "source": [
    "model = KNeighborsClassifier(n_neighbors=1)"
   ]
  },
  {
   "cell_type": "code",
   "execution_count": null,
   "id": "f129dea6-cca1-459e-8d25-f613b97c6d02",
   "metadata": {},
   "outputs": [],
   "source": [
    "model.fit(data, labels)"
   ]
  },
  {
   "cell_type": "code",
   "execution_count": null,
   "id": "c5c18b05-6303-44ec-a161-9bf790df27d8",
   "metadata": {},
   "outputs": [],
   "source": [
    "result = []\n",
    "hogimgs = []\n",
    "for (i, imagePath) in enumerate(paths.list_images(tes_path)):\n",
    "    image = cv2.imread(imagePath)\n",
    "    image = sr.upsample(image)\n",
    "    image= cv2.pyrUp(image)\n",
    "    gray = cv2.cvtColor(image, cv2.COLOR_BGR2GRAY)\n",
    "    resize_img = cv2.resize(gray , (500, 500))\n",
    "    (H, hogImage) = feature.hog(resize_img, orientations=9, pixels_per_cell=(10, 10), cells_per_block=(2, 2), transform_sqrt=True, visualize=True)\n",
    "    hogimgs.append(hogImage)\n",
    "    print(max(H))\n",
    "    pred = model.predict(H.reshape(1, -1))[0]\n",
    "    print(pred)\n",
    "    cv2.putText(image, pred.title(), (2, 30), cv2.FONT_HERSHEY_SIMPLEX, 1, (0, 255, 0), 0)\n",
    "    result.append(image)"
   ]
  },
  {
   "cell_type": "code",
   "execution_count": null,
   "id": "5ee08ed8-3a43-4e05-971f-c3412222b771",
   "metadata": {},
   "outputs": [],
   "source": [
    "# plt all predit images\n",
    "figure, ax = plt.subplots(1, len(result), figsize=(20, 60))\n",
    "for i in range(len(result)):\n",
    "    ax[i].imshow(result[i])  "
   ]
  },
  {
   "cell_type": "code",
   "execution_count": null,
   "id": "ab4ec84b-a7b1-493d-8d14-fbfe44dd5575",
   "metadata": {},
   "outputs": [],
   "source": [
    "# plt all predit images\n",
    "figure, ax = plt.subplots(1, len(hogimgs), figsize=(20, 60))\n",
    "for i in range(len(hogimgs)):\n",
    "    ax[i].imshow(hogimgs[i])  "
   ]
  }
 ],
 "metadata": {
  "kernelspec": {
   "display_name": "Python 3",
   "language": "python",
   "name": "python3"
  },
  "language_info": {
   "codemirror_mode": {
    "name": "ipython",
    "version": 3
   },
   "file_extension": ".py",
   "mimetype": "text/x-python",
   "name": "python",
   "nbconvert_exporter": "python",
   "pygments_lexer": "ipython3",
   "version": "3.8.8"
  }
 },
 "nbformat": 4,
 "nbformat_minor": 5
}
